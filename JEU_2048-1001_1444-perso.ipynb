{
 "cells": [
  {
   "cell_type": "markdown",
   "id": "3e115694",
   "metadata": {},
   "source": [
    "OK JEU CHARGEMENT MATRICE INITIALE A 0"
   ]
  },
  {
   "cell_type": "code",
   "execution_count": 1,
   "id": "21904d26",
   "metadata": {},
   "outputs": [
    {
     "name": "stdout",
     "output_type": "stream",
     "text": [
      "[[0 0 0 0]\n",
      " [0 0 0 0]\n",
      " [0 0 0 0]\n",
      " [0 0 0 0]]\n",
      "Python affecte le type suivant à grid :  <class 'numpy.ndarray'>\n"
     ]
    }
   ],
   "source": [
    "import numpy as np\n",
    "n = 4\n",
    "grid = np.zeros ((n,n), dtype = int)\n",
    "print (grid)\n",
    "print (\"Python affecte le type suivant à grid : \", type(grid))"
   ]
  },
  {
   "cell_type": "markdown",
   "id": "3107a08a",
   "metadata": {},
   "source": [
    "OK JEU CHOIX DE LA VALEUR A CHARGER AVANT JEU AVEC 1 CASE A 2 OU 4  PROBA 80 % ET 20%"
   ]
  },
  {
   "cell_type": "code",
   "execution_count": 2,
   "id": "9d627cba",
   "metadata": {},
   "outputs": [
    {
     "name": "stdout",
     "output_type": "stream",
     "text": [
      "Positions d'affectation des 2 valeurs de départ rows : [3 1] columns : [0 2]\n"
     ]
    }
   ],
   "source": [
    "import numpy as np\n",
    "n = 4\n",
    "grid = np.zeros ((n,n), dtype = int)\n",
    "row = np.random.choice ([0,1,2,3],2, replace = False)\n",
    "col = np.random.choice ([0,1,2,3],2)\n",
    "print (\"Positions d'affectation des 2 valeurs de départ\", \"rows :\", row, \"columns :\", col)\n"
   ]
  },
  {
   "cell_type": "markdown",
   "id": "5a98df41",
   "metadata": {},
   "source": [
    "OK JEU CHOIX DE LA POSITION D'INSERTION DE LA MATRICE INITIALISEE"
   ]
  },
  {
   "cell_type": "code",
   "execution_count": 3,
   "id": "114f401f",
   "metadata": {},
   "outputs": [
    {
     "name": "stdout",
     "output_type": "stream",
     "text": [
      "Valeurs aléatoires tirées : [2 2]\n"
     ]
    }
   ],
   "source": [
    "import numpy as np\n",
    "n = 4\n",
    "value = np.random.choice ([2,4],2, replace = True, p = [0.8,0.2])\n",
    "print (\"Valeurs aléatoires tirées :\", value)"
   ]
  },
  {
   "cell_type": "markdown",
   "id": "a27cac48",
   "metadata": {},
   "source": [
    "OK JEU RESTITUTION MATRICE INIT CHARGEE"
   ]
  },
  {
   "cell_type": "code",
   "execution_count": 4,
   "id": "45481a84",
   "metadata": {},
   "outputs": [
    {
     "name": "stdout",
     "output_type": "stream",
     "text": [
      "[1 2] <class 'numpy.ndarray'>\n",
      "[0 3] <class 'numpy.ndarray'>\n",
      "[4 2] <class 'numpy.ndarray'>\n",
      "[[0 0 0 0]\n",
      " [4 0 0 0]\n",
      " [0 0 0 2]\n",
      " [0 0 0 0]]\n"
     ]
    }
   ],
   "source": [
    "import numpy as np\n",
    "n = 4\n",
    "def init_grid (n):\n",
    "    grid = np.zeros ((n,n), dtype = int)\n",
    "    row = np.random.choice ([0,1,2,3],2, replace = False)\n",
    "    col = np.random.choice ([0,1,2,3],2)\n",
    "    value = np.random.choice ([2,4],2, replace = True, p = [0.8,0.2])\n",
    "    grid [row[0],col[0]] = value[0]\n",
    "    grid [row[1],col[1]] = value[1]\n",
    "    print (row , type(row))\n",
    "    print (col, type(col))\n",
    "    print (value, type (value))\n",
    "    return grid\n",
    "print (init_grid(n))"
   ]
  },
  {
   "cell_type": "markdown",
   "id": "684efed4",
   "metadata": {},
   "source": [
    "OK JEU EN CAS DE MVT UP/DOWN/LEFT/RIGHT a- ajout d'un 2 ou un 4 dans une case vide si case vide (80%/ 20%)"
   ]
  },
  {
   "cell_type": "code",
   "execution_count": 67,
   "id": "82331fb3",
   "metadata": {},
   "outputs": [
    {
     "name": "stdout",
     "output_type": "stream",
     "text": [
      "[[0 0 4 0]\n",
      " [0 0 0 0]\n",
      " [0 0 0 0]\n",
      " [2 0 0 0]]\n",
      "[(0, 0), (0, 1), (0, 3), (1, 0), (1, 1), (1, 2), (1, 3), (2, 0), (2, 1), (2, 2), (2, 3), (3, 1), (3, 2), (3, 3)]\n",
      "1\n",
      "[[2 0 4 0]\n",
      " [0 0 0 0]\n",
      " [0 0 0 0]\n",
      " [2 0 0 0]]\n"
     ]
    }
   ],
   "source": [
    "import numpy as np\n",
    "n = 4\n",
    "a = np.zeros ((n,n), dtype = int)\n",
    "r = np.random.choice ([0,1,2,3],2, replace = False)\n",
    "c = np.random.choice ([0,1,2,3],2)\n",
    "v = np.random.choice ([2,4],2, replace = True, p = [0.8,0.2])\n",
    "a [r[0],c[0]] = v[0]\n",
    "a [r[1],c[1]] = v[1]\n",
    "print (a)\n",
    "result = (np.where(a==0))\n",
    "listCoordinates= list(zip(result[0], result[1]))\n",
    "if listCoordinates != 0:\n",
    "    print (listCoordinates)\n",
    "    element_list = np.random.randint (0,len(listCoordinates), dtype = int)\n",
    "    print (element_list)\n",
    "    v = np.random.choice ([2,4], p = [0.8,0.2])\n",
    "    a [listCoordinates [element_list-1]] = v\n",
    "print (a)\n"
   ]
  },
  {
   "cell_type": "code",
   "execution_count": 30,
   "id": "ddcfb006",
   "metadata": {},
   "outputs": [
    {
     "name": "stdout",
     "output_type": "stream",
     "text": [
      "[[4 4 4 4]\n",
      " [0 0 0 0]\n",
      " [2 2 2 2]\n",
      " [2 2 2 2]] grid initiale \n",
      "\n",
      "valeur l 1 valeur w 1\n",
      "valeur l 2 valeur w 2\n",
      "[[4 4 4 4]\n",
      " [2 0 0 0]\n",
      " [2 2 2 2]\n",
      " [0 2 2 2]] grid apres tassement initial \n",
      "\n"
     ]
    }
   ],
   "source": [
    "import numpy as np\n",
    "grid2 = []\n",
    "n = 4\n",
    "grid2 = np.array ([[4, 4, 4, 4], [0, 0, 0, 0],[2, 2, 2, 2],[2, 2, 2, 2]])\n",
    "print (grid2, \"grid initiale\", \"\\n\") # suppression des 0 et décalage des cases remplies vers le haut toutes lignes/1 colonne\n",
    "c=0\n",
    "for l in range (0,3):\n",
    "    w = l \n",
    "    if grid2 [l, c] == 0 and w <= 3:\n",
    "            print (\"valeur l\", l,\"valeur w\", w )\n",
    "            while w < 3 and grid2 [w,c] == 0:\n",
    "                w = w + 1    \n",
    "            grid2 [l,c] = grid2 [w,c]\n",
    "            grid2 [w,c] = 0\n",
    "print (grid2, \"grid apres tassement initial\", \"\\n\")"
   ]
  },
  {
   "cell_type": "code",
   "execution_count": 31,
   "id": "22cd51ce",
   "metadata": {},
   "outputs": [
    {
     "name": "stdout",
     "output_type": "stream",
     "text": [
      "[[4 4 4 0]\n",
      " [0 0 0 0]\n",
      " [2 2 2 2]\n",
      " [2 2 2 2]] grid initiale \n",
      "\n",
      "[[4 4 4 0]\n",
      " [2 0 0 0]\n",
      " [2 2 2 2]\n",
      " [0 2 2 2]] grid apres tassement initial \n",
      "\n",
      "[[4 4 4 0]\n",
      " [2 2 0 0]\n",
      " [2 2 2 2]\n",
      " [0 0 2 2]] grid apres tassement initial \n",
      "\n",
      "[[4 4 4 0]\n",
      " [2 2 2 0]\n",
      " [2 2 2 2]\n",
      " [0 0 0 2]] grid apres tassement initial \n",
      "\n",
      "[[4 4 4 2]\n",
      " [2 2 2 2]\n",
      " [2 2 2 0]\n",
      " [0 0 0 0]] grid apres tassement initial \n",
      "\n"
     ]
    }
   ],
   "source": [
    "import numpy as np\n",
    "grid2 = []\n",
    "n = 4\n",
    "grid2 = np.array ([[4, 4, 4, 0], [0, 0, 0, 0],[2, 2, 2, 2],[2, 2, 2, 2]])\n",
    "print (grid2, \"grid initiale\", \"\\n\") # suppression des 0 et décalage des cases vers le haut, toutes lignes et colonnes\n",
    "for c in range (0,4):\n",
    "    for l in range (0,3):\n",
    "        w = l \n",
    "        if grid2 [l, c] == 0 and w <= 3:\n",
    "            while w < 3 and grid2 [w,c] == 0:\n",
    "                w = w + 1    \n",
    "            grid2 [l,c] = grid2 [w,c]\n",
    "            grid2 [w,c] = 0\n",
    "    print (grid2, \"grid apres tassement initial\", \"\\n\")"
   ]
  },
  {
   "cell_type": "code",
   "execution_count": 32,
   "id": "ae46dfc0",
   "metadata": {},
   "outputs": [
    {
     "name": "stdout",
     "output_type": "stream",
     "text": [
      "[[0 0 0 0]\n",
      " [0 0 0 0]\n",
      " [2 2 2 0]\n",
      " [2 2 2 2]] grid initiale \n",
      "\n",
      "w et  i et col valent  3 0 3\n",
      "w et  i et col valent  3 1 3\n",
      "w et  i et col valent  3 2 3\n",
      "[[0 0 0 2]\n",
      " [0 0 0 0]\n",
      " [2 2 2 0]\n",
      " [2 2 2 0]] grid apres tassement  \n",
      "\n"
     ]
    },
    {
     "data": {
      "text/plain": [
       "array([[0, 0, 0, 2],\n",
       "       [0, 0, 0, 0],\n",
       "       [2, 2, 2, 0],\n",
       "       [2, 2, 2, 0]])"
      ]
     },
     "execution_count": 32,
     "metadata": {},
     "output_type": "execute_result"
    }
   ],
   "source": [
    "import numpy as np\n",
    "grid2 = []\n",
    "n = 4\n",
    "grid = np.array ([[0, 0, 0, 0], [0, 0, 0, 0],[2, 2, 2, 0],[2, 2, 2, 2]])\n",
    "print (grid, \"grid initiale\", \"\\n\") # supp 0 + décal vers le haut à partir de l, 1 colonne, via fonction\n",
    "line = 0\n",
    "def decal_line (grid,line,col):\n",
    "    for i in range (line,3):\n",
    "        w = i\n",
    "        if grid [i, col] == 0 and w <= 3:\n",
    "            while w < 3 and grid [w,col] == 0:\n",
    "                w = w + 1    \n",
    "            print (\"w et  i et col valent \", w, i,col)\n",
    "            grid [i,col] = grid [w,col]\n",
    "            grid [w,col] = 0\n",
    "    print (grid, \"grid apres tassement \", \"\\n\")\n",
    "    return (grid)\n",
    "decal_line (grid,0,3)\n"
   ]
  },
  {
   "cell_type": "markdown",
   "id": "58bdfcae",
   "metadata": {},
   "source": [
    "VERSION OK POUR NETTOYER LES 0 A PARTIR D'UNE LIGNE DEFINIE VIA UNE FONCTION :"
   ]
  },
  {
   "cell_type": "code",
   "execution_count": 37,
   "id": "7d36ea38",
   "metadata": {},
   "outputs": [
    {
     "name": "stdout",
     "output_type": "stream",
     "text": [
      "[[0 0 0 0]\n",
      " [0 0 0 0]\n",
      " [2 2 2 0]\n",
      " [2 2 2 2]] grid initiale \n",
      "\n",
      "[[2 2 2 2]\n",
      " [2 2 2 0]\n",
      " [0 0 0 0]\n",
      " [0 0 0 0]]\n"
     ]
    }
   ],
   "source": [
    "import numpy as np\n",
    "grid2 = []\n",
    "n = 4\n",
    "grid = np.array ([[0, 0, 0, 0], [0, 0, 0, 0],[2, 2, 2, 0],[2, 2, 2, 2]])\n",
    "print (grid, \"grid initiale\", \"\\n\") # supp 0 + décal vers le haut à partir de l, 1 colonne, via fonction\n",
    "line = 0\n",
    "def decal_line (grid,line,col):\n",
    "    for i in range (line,3):\n",
    "        w = i\n",
    "        if grid [i, col] == 0 and w <= 3:\n",
    "            while w < 3 and grid [w,col] == 0:\n",
    "                w = w + 1    \n",
    "            grid [i,col] = grid [w,col]\n",
    "            grid [w,col] = 0\n",
    "    return (grid)\n",
    "line = 0\n",
    "for col in range (0,4): # décalage de ligne à partir de line=x sur chaque colonne pour retrait des 0\n",
    "    decal_line (grid,line,col)\n",
    "print (grid)\n"
   ]
  },
  {
   "cell_type": "markdown",
   "id": "e1a5e1c1",
   "metadata": {},
   "source": [
    "VERSION OK POUR CUMULER les cases et NETTOYER LES 0 A PARTIR si touche \"UP\"  :"
   ]
  },
  {
   "cell_type": "code",
   "execution_count": 49,
   "id": "5b7ce812",
   "metadata": {},
   "outputs": [
    {
     "name": "stdout",
     "output_type": "stream",
     "text": [
      "[[0 2 4 0]\n",
      " [0 2 2 0]\n",
      " [2 2 2 0]\n",
      " [2 2 2 2]] grid initiale \n",
      "\n",
      "[[4 4 4 2]\n",
      " [0 4 4 0]\n",
      " [0 0 2 0]\n",
      " [0 0 0 0]]  apres ajout de ligne identiques\n",
      "[[2 0 0 0]\n",
      " [4 4 2 0]\n",
      " [4 4 0 0]\n",
      " [4 0 0 0]]  rotation 90\n"
     ]
    }
   ],
   "source": [
    "import numpy as np\n",
    "n = 4\n",
    "grid = np.array ([[0, 2, 4, 0], [0, 2, 2, 0],[2, 2, 2, 0],[2, 2, 2, 2]])\n",
    "print (grid, \"grid initiale\", \"\\n\") # supp 0+cumul+decal vers le haut à partir de l, ttes colonnes, via fonction\n",
    "line = 0\n",
    "def decal_line (grid,line,col):\n",
    "    for i in range (line,3):\n",
    "        w = i\n",
    "        if grid [i, col] == 0 and w <= 3:\n",
    "            while w < 3 and grid [w,col] == 0:\n",
    "                w = w + 1    \n",
    "            grid [i,col] = grid [w,col]\n",
    "            grid [w,col] = 0\n",
    "    return (grid)\n",
    "for col in range (0,4): # ajout 2 par 2 et decal \n",
    "    for line in range (0,3):\n",
    "        if grid [line,col] == 0:\n",
    "            decal_line (grid,line, col)\n",
    "        if grid [line,col] != 0 and grid [line+1,col] == 0:\n",
    "            decal_line(grid, line+1, col)   \n",
    "        if grid [line,col] == grid [line+1,col] and grid [line,col] != 0 and line < 3:\n",
    "            grid [line,col] += grid [line+1, col]\n",
    "            grid [line+1,col] = 0\n",
    "print (grid, \" apres ajout de ligne identiques\")"
   ]
  },
  {
   "cell_type": "markdown",
   "id": "19b808c9",
   "metadata": {},
   "source": [
    "VERSION OK JEU avec les 4 MOUVEMENTS POSSIBLES OK : TOUT MVT hors UP est un UP APRES ROTATION/MVT/ROTATION \n",
    "\n",
    "A CONNAITRE \n",
    "rotation de matrice grid = np.rot90 (grid,2) : 2 rotations de 90 = 180 en unclockwise\n",
    "\n",
    "récuperer ou charger la diagonale d'une matrice : grid = np.diag (grid)\n",
    "\n",
    "np.all(grid [1,:] ==1) : booléen verifie la presence de \"1\" sur tous les cases de la ligne 1, renvoie True ou False\n",
    "np.all(grid [:,0] ==0) : booléen verifie la presence de \"0\" sur tous les cases de la colonne 0, renvoie True ou False\n",
    "np.all(grid [:,:] == 0)"
   ]
  },
  {
   "cell_type": "code",
   "execution_count": 9,
   "id": "55faad4f",
   "metadata": {},
   "outputs": [
    {
     "name": "stdout",
     "output_type": "stream",
     "text": [
      "[[0 2 4 0]\n",
      " [0 2 2 0]\n",
      " [2 2 2 0]\n",
      " [2 2 2 2]] grid initiale \n",
      "\n",
      "[[4 4 4 4]\n",
      " [2 0 2 4]\n",
      " [0 0 0 0]\n",
      " [0 0 0 0]] apres additions suite mvt UP \n",
      "\n",
      "[[0 0 2 4]\n",
      " [0 0 0 4]\n",
      " [0 0 2 4]\n",
      " [0 0 4 4]] aprè mvt  right \n",
      "\n",
      "False analyse de la ligne1 \n",
      "\n",
      "True analyse de la colonne 0\n",
      "\n",
      "True analyse de toute la matrice a valeur 0\n",
      "\n",
      "[0 0 2 4] \n",
      "\n"
     ]
    }
   ],
   "source": [
    "import numpy as np\n",
    "n = 4\n",
    "grid = np.array ([[0, 2, 4, 0], [0, 2, 2, 0],[2, 2, 2, 0],[2, 2, 2, 2]])\n",
    "print (grid, \"grid initiale\", \"\\n\") # supp 0+cumul+decal vers le haut à partir de l, ttes colonnes, via fonctions\n",
    "line = 0\n",
    "def decal_line (grid,line,col):\n",
    "    for i in range (line,3):\n",
    "        w = i\n",
    "        if grid [i, col] == 0 and w <= 3:\n",
    "            while w < 3 and grid [w,col] == 0:\n",
    "                w = w + 1    \n",
    "            grid [i,col] = grid [w,col]\n",
    "            grid [w,col] = 0\n",
    "    return (grid)\n",
    "def moove_up (grid): # ajout 2 par 2 et decal \n",
    "    for col in range (0,4): \n",
    "        for line in range (0,3):\n",
    "            if grid [line,col] == 0:\n",
    "                decal_line (grid,line, col)\n",
    "            if grid [line,col] != 0 and grid [line+1,col] == 0:\n",
    "                decal_line(grid, line+1, col)   \n",
    "            if grid [line,col] == grid [line+1,col] and grid [line,col] != 0 and line < 3:\n",
    "                grid [line,col] += grid [line+1, col]\n",
    "                grid [line+1,col] = 0\n",
    "    print (grid, 'apres additions suite mvt UP', \"\\n\")\n",
    "    return (grid)\n",
    "moove = \"right\"\n",
    "if moove == \"up\":\n",
    "    moove_up (grid)\n",
    "if moove == \"down\":\n",
    "    grid = np.rot90 (grid,2)\n",
    "    moove_up (grid)\n",
    "    grid = np.rot90 (grid,2)\n",
    "if moove == \"right\":\n",
    "    grid = np.rot90 (grid,1)\n",
    "    moove_up (grid)\n",
    "    grid = np.rot90 (grid,3)\n",
    "if moove == \"left\":\n",
    "    grid = np.rot90 (grid,3)\n",
    "    moove_up (grid)\n",
    "    grid = np.rot90 (grid)\n",
    "print (grid, \"aprè mvt \", moove, \"\\n\")\n",
    "print (np.all (grid[1,:]== 1),\"analyse de la ligne1\", \"\\n\")\n",
    "print (np.all (grid[:,0]== 0),\"analyse de la colonne 0\" \"\\n\")\n",
    "grid2 = np.zeros ((n,n), dtype = int)\n",
    "print (np.all (grid2[:,:]== 0),\"analyse de toute la matrice a valeur 0\" \"\\n\")\n",
    "print (np.diag (grid), \"\\n\")\n",
    "\n",
    "\n"
   ]
  },
  {
   "cell_type": "code",
   "execution_count": null,
   "id": "d1f5f7bc",
   "metadata": {},
   "outputs": [],
   "source": []
  }
 ],
 "metadata": {
  "kernelspec": {
   "display_name": "Python 3 (ipykernel)",
   "language": "python",
   "name": "python3"
  },
  "language_info": {
   "codemirror_mode": {
    "name": "ipython",
    "version": 3
   },
   "file_extension": ".py",
   "mimetype": "text/x-python",
   "name": "python",
   "nbconvert_exporter": "python",
   "pygments_lexer": "ipython3",
   "version": "3.9.13"
  }
 },
 "nbformat": 4,
 "nbformat_minor": 5
}
